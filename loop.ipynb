{
  "nbformat": 4,
  "nbformat_minor": 0,
  "metadata": {
    "colab": {
      "provenance": [],
      "authorship_tag": "ABX9TyPZi4S150rALisefYMrUE5W",
      "include_colab_link": true
    },
    "kernelspec": {
      "name": "python3",
      "display_name": "Python 3"
    },
    "language_info": {
      "name": "python"
    }
  },
  "cells": [
    {
      "cell_type": "markdown",
      "metadata": {
        "id": "view-in-github",
        "colab_type": "text"
      },
      "source": [
        "<a href=\"https://colab.research.google.com/github/Elsy-mwangi/python-assignment/blob/main/loop.ipynb\" target=\"_parent\"><img src=\"https://colab.research.google.com/assets/colab-badge.svg\" alt=\"Open In Colab\"/></a>"
      ]
    },
    {
      "cell_type": "code",
      "execution_count": 1,
      "metadata": {
        "colab": {
          "base_uri": "https://localhost:8080/"
        },
        "id": "RQxJkaKwjAVv",
        "outputId": "5fcb2754-07c6-476d-c0cc-15de6c26c4fb"
      },
      "outputs": [
        {
          "output_type": "stream",
          "name": "stdout",
          "text": [
            "Enter the radius of the cylinder: 7\n",
            "Enter the height of the cylinder: 12\n",
            "The volume of the cylinder is:1847.26\n"
          ]
        }
      ],
      "source": [
        "import math\n",
        "def volume_of_cylinder(radius,height):\n",
        "    volume=math.pi * radius**2 * height\n",
        "    return volume\n",
        "r=float(input(\"Enter the radius of the cylinder: \"))\n",
        "h=float(input(\"Enter the height of the cylinder: \"))\n",
        "v = volume_of_cylinder(r,h)\n",
        "print(f\"The volume of the cylinder is:{v:.2f}\")"
      ]
    }
  ]
}